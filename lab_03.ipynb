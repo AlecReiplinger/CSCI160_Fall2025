{
 "cells": [
  {
   "cell_type": "code",
   "execution_count": 1,
   "id": "e67f3773-2d3d-4b94-92dc-e519271d5fa4",
   "metadata": {},
   "outputs": [
    {
     "name": "stdout",
     "output_type": "stream",
     "text": [
      "goodbye\n"
     ]
    }
   ],
   "source": [
    "print('goodbye')"
   ]
  },
  {
   "cell_type": "code",
   "execution_count": 1,
   "id": "687377b1-eeb9-4637-9722-4a13781b7a47",
   "metadata": {},
   "outputs": [
    {
     "name": "stdout",
     "output_type": "stream",
     "text": [
      "have a good day\n"
     ]
    }
   ],
   "source": [
    "print('have a good day')"
   ]
  },
  {
   "cell_type": "code",
   "execution_count": null,
   "id": "c3ae2232-7043-4cf3-938d-80dcac0e9492",
   "metadata": {},
   "outputs": [],
   "source": []
  }
 ],
 "metadata": {
  "kernelspec": {
   "display_name": "Python 3 (ipykernel)",
   "language": "python",
   "name": "python3"
  },
  "language_info": {
   "codemirror_mode": {
    "name": "ipython",
    "version": 3
   },
   "file_extension": ".py",
   "mimetype": "text/x-python",
   "name": "python",
   "nbconvert_exporter": "python",
   "pygments_lexer": "ipython3",
   "version": "3.12.7"
  }
 },
 "nbformat": 4,
 "nbformat_minor": 5
}
