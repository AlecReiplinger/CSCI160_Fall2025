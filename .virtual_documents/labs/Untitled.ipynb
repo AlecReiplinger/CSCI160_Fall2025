print('i need this to work')



