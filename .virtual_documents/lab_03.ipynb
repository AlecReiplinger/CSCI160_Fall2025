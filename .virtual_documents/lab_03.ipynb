print('goodbye')


print('have a good day')



